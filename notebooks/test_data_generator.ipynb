{
 "cells": [
  {
   "cell_type": "code",
   "execution_count": null,
   "metadata": {},
   "outputs": [],
   "source": [
    "import numpy as np\n",
    "import xarray as xr"
   ]
  },
  {
   "cell_type": "code",
   "execution_count": null,
   "metadata": {},
   "outputs": [],
   "source": [
    "print(\"Creating example data...\")\n",
    "nx, ny, nt = 2000, 2000, 100  # Large spatial dimensions, smaller time dimension\n",
    "\n",
    "# Create random event data - in reality this would be your binary event time series\n",
    "# Smaller subset for demonstration\n",
    "nx_demo, ny_demo = 200, 200  # Using smaller dimensions for this example\n",
    "\n",
    "# Create coordinates\n",
    "lats = np.linspace(-90, 90, nx_demo)\n",
    "lons = np.linspace(-180, 180, ny_demo)\n",
    "times = np.arange(nt)\n",
    "\n",
    "# Create sparse binary events (mostly zeros with some ones)\n",
    "data_a = np.random.binomial(1, 0.05, size=(nx_demo, nt))  # 5% chance of event\n",
    "data_b = np.random.binomial(1, 0.05, size=(ny_demo, nt))  # 5% chance of event\n",
    "\n",
    "# Create xarray DataArrays\n",
    "event_a = xr.DataArray(\n",
    "    data_a, \n",
    "    coords=[(\"location\", list(zip(lats, lons))), (\"time\", times)],\n",
    "    name=\"event_a\"\n",
    ")\n",
    "\n",
    "event_b = xr.DataArray(\n",
    "    data_b, \n",
    "    coords=[(\"location\", list(zip(lats, lons))), (\"time\", times)],\n",
    "    name=\"event_b\"\n",
    ")\n",
    "\n",
    "print(f\"Event A shape: {event_a.shape}\")\n",
    "print(f\"Event B shape: {event_b.shape}\")"
   ]
  }
 ],
 "metadata": {
  "language_info": {
   "name": "python"
  }
 },
 "nbformat": 4,
 "nbformat_minor": 2
}
