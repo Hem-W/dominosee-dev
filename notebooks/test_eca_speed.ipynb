{
 "cells": [
  {
   "cell_type": "code",
   "execution_count": 2,
   "metadata": {},
   "outputs": [],
   "source": [
    "import pathlib\n",
    "import time\n",
    "from importlib import reload\n",
    "import numpy as np\n",
    "import pandas as pd\n",
    "import matplotlib.pyplot as plt\n",
    "import xarray as xr\n",
    "import cf_xarray as cfxr"
   ]
  },
  {
   "cell_type": "code",
   "execution_count": 3,
   "metadata": {},
   "outputs": [
    {
     "data": {
      "text/html": [
       "<div>\n",
       "    <div style=\"width: 24px; height: 24px; background-color: #e1e1e1; border: 3px solid #9D9D9D; border-radius: 5px; position: absolute;\"> </div>\n",
       "    <div style=\"margin-left: 48px;\">\n",
       "        <h3 style=\"margin-bottom: 0px;\">Client</h3>\n",
       "        <p style=\"color: #9D9D9D; margin-bottom: 0px;\">Client-7e08a74b-fd5b-11ef-b534-b07b2525a2e5</p>\n",
       "        <table style=\"width: 100%; text-align: left;\">\n",
       "\n",
       "        <tr>\n",
       "        \n",
       "            <td style=\"text-align: left;\"><strong>Connection method:</strong> Cluster object</td>\n",
       "            <td style=\"text-align: left;\"><strong>Cluster type:</strong> distributed.LocalCluster</td>\n",
       "        \n",
       "        </tr>\n",
       "\n",
       "        \n",
       "            <tr>\n",
       "                <td style=\"text-align: left;\">\n",
       "                    <strong>Dashboard: </strong> <a href=\"http://10.245.92.223:8787/status\" target=\"_blank\">http://10.245.92.223:8787/status</a>\n",
       "                </td>\n",
       "                <td style=\"text-align: left;\"></td>\n",
       "            </tr>\n",
       "        \n",
       "\n",
       "        </table>\n",
       "\n",
       "        \n",
       "\n",
       "        \n",
       "            <details>\n",
       "            <summary style=\"margin-bottom: 20px;\"><h3 style=\"display: inline;\">Cluster Info</h3></summary>\n",
       "            <div class=\"jp-RenderedHTMLCommon jp-RenderedHTML jp-mod-trusted jp-OutputArea-output\">\n",
       "    <div style=\"width: 24px; height: 24px; background-color: #e1e1e1; border: 3px solid #9D9D9D; border-radius: 5px; position: absolute;\">\n",
       "    </div>\n",
       "    <div style=\"margin-left: 48px;\">\n",
       "        <h3 style=\"margin-bottom: 0px; margin-top: 0px;\">LocalCluster</h3>\n",
       "        <p style=\"color: #9D9D9D; margin-bottom: 0px;\">79cd76d5</p>\n",
       "        <table style=\"width: 100%; text-align: left;\">\n",
       "            <tr>\n",
       "                <td style=\"text-align: left;\">\n",
       "                    <strong>Dashboard:</strong> <a href=\"http://10.245.92.223:8787/status\" target=\"_blank\">http://10.245.92.223:8787/status</a>\n",
       "                </td>\n",
       "                <td style=\"text-align: left;\">\n",
       "                    <strong>Workers:</strong> 1\n",
       "                </td>\n",
       "            </tr>\n",
       "            <tr>\n",
       "                <td style=\"text-align: left;\">\n",
       "                    <strong>Total threads:</strong> 48\n",
       "                </td>\n",
       "                <td style=\"text-align: left;\">\n",
       "                    <strong>Total memory:</strong> 251.39 GiB\n",
       "                </td>\n",
       "            </tr>\n",
       "            \n",
       "            <tr>\n",
       "    <td style=\"text-align: left;\"><strong>Status:</strong> running</td>\n",
       "    <td style=\"text-align: left;\"><strong>Using processes:</strong> False</td>\n",
       "</tr>\n",
       "\n",
       "            \n",
       "        </table>\n",
       "\n",
       "        <details>\n",
       "            <summary style=\"margin-bottom: 20px;\">\n",
       "                <h3 style=\"display: inline;\">Scheduler Info</h3>\n",
       "            </summary>\n",
       "\n",
       "            <div style=\"\">\n",
       "    <div>\n",
       "        <div style=\"width: 24px; height: 24px; background-color: #FFF7E5; border: 3px solid #FF6132; border-radius: 5px; position: absolute;\"> </div>\n",
       "        <div style=\"margin-left: 48px;\">\n",
       "            <h3 style=\"margin-bottom: 0px;\">Scheduler</h3>\n",
       "            <p style=\"color: #9D9D9D; margin-bottom: 0px;\">Scheduler-3f20c2ba-6970-4aaa-ac7a-56bd378989ad</p>\n",
       "            <table style=\"width: 100%; text-align: left;\">\n",
       "                <tr>\n",
       "                    <td style=\"text-align: left;\">\n",
       "                        <strong>Comm:</strong> inproc://10.245.92.223/1357108/1\n",
       "                    </td>\n",
       "                    <td style=\"text-align: left;\">\n",
       "                        <strong>Workers:</strong> 1\n",
       "                    </td>\n",
       "                </tr>\n",
       "                <tr>\n",
       "                    <td style=\"text-align: left;\">\n",
       "                        <strong>Dashboard:</strong> <a href=\"http://10.245.92.223:8787/status\" target=\"_blank\">http://10.245.92.223:8787/status</a>\n",
       "                    </td>\n",
       "                    <td style=\"text-align: left;\">\n",
       "                        <strong>Total threads:</strong> 48\n",
       "                    </td>\n",
       "                </tr>\n",
       "                <tr>\n",
       "                    <td style=\"text-align: left;\">\n",
       "                        <strong>Started:</strong> Just now\n",
       "                    </td>\n",
       "                    <td style=\"text-align: left;\">\n",
       "                        <strong>Total memory:</strong> 251.39 GiB\n",
       "                    </td>\n",
       "                </tr>\n",
       "            </table>\n",
       "        </div>\n",
       "    </div>\n",
       "\n",
       "    <details style=\"margin-left: 48px;\">\n",
       "        <summary style=\"margin-bottom: 20px;\">\n",
       "            <h3 style=\"display: inline;\">Workers</h3>\n",
       "        </summary>\n",
       "\n",
       "        \n",
       "        <div style=\"margin-bottom: 20px;\">\n",
       "            <div style=\"width: 24px; height: 24px; background-color: #DBF5FF; border: 3px solid #4CC9FF; border-radius: 5px; position: absolute;\"> </div>\n",
       "            <div style=\"margin-left: 48px;\">\n",
       "            <details>\n",
       "                <summary>\n",
       "                    <h4 style=\"margin-bottom: 0px; display: inline;\">Worker: 0</h4>\n",
       "                </summary>\n",
       "                <table style=\"width: 100%; text-align: left;\">\n",
       "                    <tr>\n",
       "                        <td style=\"text-align: left;\">\n",
       "                            <strong>Comm: </strong> inproc://10.245.92.223/1357108/4\n",
       "                        </td>\n",
       "                        <td style=\"text-align: left;\">\n",
       "                            <strong>Total threads: </strong> 48\n",
       "                        </td>\n",
       "                    </tr>\n",
       "                    <tr>\n",
       "                        <td style=\"text-align: left;\">\n",
       "                            <strong>Dashboard: </strong> <a href=\"http://10.245.92.223:41401/status\" target=\"_blank\">http://10.245.92.223:41401/status</a>\n",
       "                        </td>\n",
       "                        <td style=\"text-align: left;\">\n",
       "                            <strong>Memory: </strong> 251.39 GiB\n",
       "                        </td>\n",
       "                    </tr>\n",
       "                    <tr>\n",
       "                        <td style=\"text-align: left;\">\n",
       "                            <strong>Nanny: </strong> None\n",
       "                        </td>\n",
       "                        <td style=\"text-align: left;\"></td>\n",
       "                    </tr>\n",
       "                    <tr>\n",
       "                        <td colspan=\"2\" style=\"text-align: left;\">\n",
       "                            <strong>Local directory: </strong> /tmp/dask-scratch-space/worker-pis8p82r\n",
       "                        </td>\n",
       "                    </tr>\n",
       "\n",
       "                    \n",
       "\n",
       "                    \n",
       "\n",
       "                </table>\n",
       "            </details>\n",
       "            </div>\n",
       "        </div>\n",
       "        \n",
       "\n",
       "    </details>\n",
       "</div>\n",
       "\n",
       "        </details>\n",
       "    </div>\n",
       "</div>\n",
       "            </details>\n",
       "        \n",
       "\n",
       "    </div>\n",
       "</div>"
      ],
      "text/plain": [
       "<Client: 'inproc://10.245.92.223/1357108/1' processes=1 threads=48, memory=251.39 GiB>"
      ]
     },
     "execution_count": 3,
     "metadata": {},
     "output_type": "execute_result"
    }
   ],
   "source": [
    "from numba import njit, guvectorize, prange\n",
    "# import dask.config\n",
    "# dask.config.set(scheduler='threads')\n",
    "\n",
    "# # 创建一个使用线程的 LocalCluster（使用 processes=False 表示线程模式）\n",
    "from dask.distributed import Client, performance_report\n",
    "client = Client(processes=False)\n",
    "client"
   ]
  },
  {
   "cell_type": "code",
   "execution_count": 4,
   "metadata": {},
   "outputs": [],
   "source": [
    "@guvectorize([\"void(boolean[:], boolean[:], uint16[:])\"], \"(n),(n)->()\", nopython=True)\n",
    "def eca_precursor(b1, b2wr, KRprec):\n",
    "    KRprec[0] = np.sum(b1 & b2wr)"
   ]
  },
  {
   "cell_type": "code",
   "execution_count": 5,
   "metadata": {},
   "outputs": [],
   "source": [
    "@guvectorize([\"void(bool_[:,:], bool_[:,:], uint16[:,:])\"], \"(m,n),(l,n)->(m,l)\", nopython=True,)\n",
    "def eca_precursors_pair(b2, b1w, result):\n",
    "    \"\"\"一次性计算所有位置对的 precursor 关系\"\"\"\n",
    "    m = b2.shape[0]     # 第一数组的第一维\n",
    "    l = b1w.shape[0]    # 第二数组的第一维\n",
    "    \n",
    "    for i in range(m):\n",
    "        for j in range(l):\n",
    "            result[i, j] = np.sum(b2[i, :] & b1w[j, :])"
   ]
  },
  {
   "cell_type": "code",
   "execution_count": 6,
   "metadata": {},
   "outputs": [],
   "source": [
    "@njit(cache=True)\n",
    "def eca_precursor_njit(b1, b2wr):\n",
    "    KRprec = np.sum(b1 & b2wr)\n",
    "    return KRprec\n",
    "\n",
    "_ = eca_precursor(np.array([True]), np.array([True]))"
   ]
  },
  {
   "cell_type": "code",
   "execution_count": 7,
   "metadata": {},
   "outputs": [],
   "source": [
    "@njit(cache=True)\n",
    "def eca_precursors_pair_njit(b2, b1w):\n",
    "    \"\"\"一次性计算所有位置对的 precursor 关系\"\"\"\n",
    "    result = np.zeros((b2.shape[0], b1w.shape[0]), dtype=np.uint16)\n",
    "    m = b2.shape[0]     # 第一数组的第一维\n",
    "    l = b1w.shape[0]    # 第二数组的第一维\n",
    "    \n",
    "    for i in range(m):\n",
    "        for j in range(l):\n",
    "            result[i, j] = np.sum(b2[i, :] & b1w[j, :])\n",
    "    return result\n",
    "\n",
    "_ = eca_precursors_pair_njit(np.array([[True]]), np.array([[True]]))"
   ]
  },
  {
   "cell_type": "code",
   "execution_count": 8,
   "metadata": {},
   "outputs": [],
   "source": [
    "@njit(cache=True, parallel=True)\n",
    "def eca_precursors_pair_njitp(b2, b1w):\n",
    "    \"\"\"一次性计算所有位置对的 precursor 关系\"\"\"\n",
    "    result = np.zeros((b2.shape[0], b1w.shape[0]), dtype=np.uint16)\n",
    "    m = b2.shape[0]     # 第一数组的第一维\n",
    "    l = b1w.shape[0]    # 第二数组的第一维\n",
    "    \n",
    "    for i in prange(m):\n",
    "        for j in range(l):\n",
    "            result[i, j] = np.sum(b2[i, :] & b1w[j, :])\n",
    "    return result\n",
    "\n",
    "_ = eca_precursor_njit(np.array([[True]]), np.array([[True]]))"
   ]
  },
  {
   "cell_type": "markdown",
   "metadata": {},
   "source": [
    "## prepare data"
   ]
  },
  {
   "cell_type": "code",
   "execution_count": 36,
   "metadata": {},
   "outputs": [
    {
     "data": {
      "text/html": [
       "<div><svg style=\"position: absolute; width: 0; height: 0; overflow: hidden\">\n",
       "<defs>\n",
       "<symbol id=\"icon-database\" viewBox=\"0 0 32 32\">\n",
       "<path d=\"M16 0c-8.837 0-16 2.239-16 5v4c0 2.761 7.163 5 16 5s16-2.239 16-5v-4c0-2.761-7.163-5-16-5z\"></path>\n",
       "<path d=\"M16 17c-8.837 0-16-2.239-16-5v6c0 2.761 7.163 5 16 5s16-2.239 16-5v-6c0 2.761-7.163 5-16 5z\"></path>\n",
       "<path d=\"M16 26c-8.837 0-16-2.239-16-5v6c0 2.761 7.163 5 16 5s16-2.239 16-5v-6c0 2.761-7.163 5-16 5z\"></path>\n",
       "</symbol>\n",
       "<symbol id=\"icon-file-text2\" viewBox=\"0 0 32 32\">\n",
       "<path d=\"M28.681 7.159c-0.694-0.947-1.662-2.053-2.724-3.116s-2.169-2.030-3.116-2.724c-1.612-1.182-2.393-1.319-2.841-1.319h-15.5c-1.378 0-2.5 1.121-2.5 2.5v27c0 1.378 1.122 2.5 2.5 2.5h23c1.378 0 2.5-1.122 2.5-2.5v-19.5c0-0.448-0.137-1.23-1.319-2.841zM24.543 5.457c0.959 0.959 1.712 1.825 2.268 2.543h-4.811v-4.811c0.718 0.556 1.584 1.309 2.543 2.268zM28 29.5c0 0.271-0.229 0.5-0.5 0.5h-23c-0.271 0-0.5-0.229-0.5-0.5v-27c0-0.271 0.229-0.5 0.5-0.5 0 0 15.499-0 15.5 0v7c0 0.552 0.448 1 1 1h7v19.5z\"></path>\n",
       "<path d=\"M23 26h-14c-0.552 0-1-0.448-1-1s0.448-1 1-1h14c0.552 0 1 0.448 1 1s-0.448 1-1 1z\"></path>\n",
       "<path d=\"M23 22h-14c-0.552 0-1-0.448-1-1s0.448-1 1-1h14c0.552 0 1 0.448 1 1s-0.448 1-1 1z\"></path>\n",
       "<path d=\"M23 18h-14c-0.552 0-1-0.448-1-1s0.448-1 1-1h14c0.552 0 1 0.448 1 1s-0.448 1-1 1z\"></path>\n",
       "</symbol>\n",
       "</defs>\n",
       "</svg>\n",
       "<style>/* CSS stylesheet for displaying xarray objects in jupyterlab.\n",
       " *\n",
       " */\n",
       "\n",
       ":root {\n",
       "  --xr-font-color0: var(--jp-content-font-color0, rgba(0, 0, 0, 1));\n",
       "  --xr-font-color2: var(--jp-content-font-color2, rgba(0, 0, 0, 0.54));\n",
       "  --xr-font-color3: var(--jp-content-font-color3, rgba(0, 0, 0, 0.38));\n",
       "  --xr-border-color: var(--jp-border-color2, #e0e0e0);\n",
       "  --xr-disabled-color: var(--jp-layout-color3, #bdbdbd);\n",
       "  --xr-background-color: var(--jp-layout-color0, white);\n",
       "  --xr-background-color-row-even: var(--jp-layout-color1, white);\n",
       "  --xr-background-color-row-odd: var(--jp-layout-color2, #eeeeee);\n",
       "}\n",
       "\n",
       "html[theme=\"dark\"],\n",
       "html[data-theme=\"dark\"],\n",
       "body[data-theme=\"dark\"],\n",
       "body.vscode-dark {\n",
       "  --xr-font-color0: rgba(255, 255, 255, 1);\n",
       "  --xr-font-color2: rgba(255, 255, 255, 0.54);\n",
       "  --xr-font-color3: rgba(255, 255, 255, 0.38);\n",
       "  --xr-border-color: #1f1f1f;\n",
       "  --xr-disabled-color: #515151;\n",
       "  --xr-background-color: #111111;\n",
       "  --xr-background-color-row-even: #111111;\n",
       "  --xr-background-color-row-odd: #313131;\n",
       "}\n",
       "\n",
       ".xr-wrap {\n",
       "  display: block !important;\n",
       "  min-width: 300px;\n",
       "  max-width: 700px;\n",
       "}\n",
       "\n",
       ".xr-text-repr-fallback {\n",
       "  /* fallback to plain text repr when CSS is not injected (untrusted notebook) */\n",
       "  display: none;\n",
       "}\n",
       "\n",
       ".xr-header {\n",
       "  padding-top: 6px;\n",
       "  padding-bottom: 6px;\n",
       "  margin-bottom: 4px;\n",
       "  border-bottom: solid 1px var(--xr-border-color);\n",
       "}\n",
       "\n",
       ".xr-header > div,\n",
       ".xr-header > ul {\n",
       "  display: inline;\n",
       "  margin-top: 0;\n",
       "  margin-bottom: 0;\n",
       "}\n",
       "\n",
       ".xr-obj-type,\n",
       ".xr-array-name {\n",
       "  margin-left: 2px;\n",
       "  margin-right: 10px;\n",
       "}\n",
       "\n",
       ".xr-obj-type {\n",
       "  color: var(--xr-font-color2);\n",
       "}\n",
       "\n",
       ".xr-sections {\n",
       "  padding-left: 0 !important;\n",
       "  display: grid;\n",
       "  grid-template-columns: 150px auto auto 1fr 0 20px 0 20px;\n",
       "}\n",
       "\n",
       ".xr-section-item {\n",
       "  display: contents;\n",
       "}\n",
       "\n",
       ".xr-section-item input {\n",
       "  display: inline-block;\n",
       "  opacity: 0;\n",
       "  height: 0;\n",
       "}\n",
       "\n",
       ".xr-section-item input + label {\n",
       "  color: var(--xr-disabled-color);\n",
       "}\n",
       "\n",
       ".xr-section-item input:enabled + label {\n",
       "  cursor: pointer;\n",
       "  color: var(--xr-font-color2);\n",
       "}\n",
       "\n",
       ".xr-section-item input:focus + label {\n",
       "  border: 2px solid var(--xr-font-color0);\n",
       "}\n",
       "\n",
       ".xr-section-item input:enabled + label:hover {\n",
       "  color: var(--xr-font-color0);\n",
       "}\n",
       "\n",
       ".xr-section-summary {\n",
       "  grid-column: 1;\n",
       "  color: var(--xr-font-color2);\n",
       "  font-weight: 500;\n",
       "}\n",
       "\n",
       ".xr-section-summary > span {\n",
       "  display: inline-block;\n",
       "  padding-left: 0.5em;\n",
       "}\n",
       "\n",
       ".xr-section-summary-in:disabled + label {\n",
       "  color: var(--xr-font-color2);\n",
       "}\n",
       "\n",
       ".xr-section-summary-in + label:before {\n",
       "  display: inline-block;\n",
       "  content: \"►\";\n",
       "  font-size: 11px;\n",
       "  width: 15px;\n",
       "  text-align: center;\n",
       "}\n",
       "\n",
       ".xr-section-summary-in:disabled + label:before {\n",
       "  color: var(--xr-disabled-color);\n",
       "}\n",
       "\n",
       ".xr-section-summary-in:checked + label:before {\n",
       "  content: \"▼\";\n",
       "}\n",
       "\n",
       ".xr-section-summary-in:checked + label > span {\n",
       "  display: none;\n",
       "}\n",
       "\n",
       ".xr-section-summary,\n",
       ".xr-section-inline-details {\n",
       "  padding-top: 4px;\n",
       "  padding-bottom: 4px;\n",
       "}\n",
       "\n",
       ".xr-section-inline-details {\n",
       "  grid-column: 2 / -1;\n",
       "}\n",
       "\n",
       ".xr-section-details {\n",
       "  display: none;\n",
       "  grid-column: 1 / -1;\n",
       "  margin-bottom: 5px;\n",
       "}\n",
       "\n",
       ".xr-section-summary-in:checked ~ .xr-section-details {\n",
       "  display: contents;\n",
       "}\n",
       "\n",
       ".xr-array-wrap {\n",
       "  grid-column: 1 / -1;\n",
       "  display: grid;\n",
       "  grid-template-columns: 20px auto;\n",
       "}\n",
       "\n",
       ".xr-array-wrap > label {\n",
       "  grid-column: 1;\n",
       "  vertical-align: top;\n",
       "}\n",
       "\n",
       ".xr-preview {\n",
       "  color: var(--xr-font-color3);\n",
       "}\n",
       "\n",
       ".xr-array-preview,\n",
       ".xr-array-data {\n",
       "  padding: 0 5px !important;\n",
       "  grid-column: 2;\n",
       "}\n",
       "\n",
       ".xr-array-data,\n",
       ".xr-array-in:checked ~ .xr-array-preview {\n",
       "  display: none;\n",
       "}\n",
       "\n",
       ".xr-array-in:checked ~ .xr-array-data,\n",
       ".xr-array-preview {\n",
       "  display: inline-block;\n",
       "}\n",
       "\n",
       ".xr-dim-list {\n",
       "  display: inline-block !important;\n",
       "  list-style: none;\n",
       "  padding: 0 !important;\n",
       "  margin: 0;\n",
       "}\n",
       "\n",
       ".xr-dim-list li {\n",
       "  display: inline-block;\n",
       "  padding: 0;\n",
       "  margin: 0;\n",
       "}\n",
       "\n",
       ".xr-dim-list:before {\n",
       "  content: \"(\";\n",
       "}\n",
       "\n",
       ".xr-dim-list:after {\n",
       "  content: \")\";\n",
       "}\n",
       "\n",
       ".xr-dim-list li:not(:last-child):after {\n",
       "  content: \",\";\n",
       "  padding-right: 5px;\n",
       "}\n",
       "\n",
       ".xr-has-index {\n",
       "  font-weight: bold;\n",
       "}\n",
       "\n",
       ".xr-var-list,\n",
       ".xr-var-item {\n",
       "  display: contents;\n",
       "}\n",
       "\n",
       ".xr-var-item > div,\n",
       ".xr-var-item label,\n",
       ".xr-var-item > .xr-var-name span {\n",
       "  background-color: var(--xr-background-color-row-even);\n",
       "  margin-bottom: 0;\n",
       "}\n",
       "\n",
       ".xr-var-item > .xr-var-name:hover span {\n",
       "  padding-right: 5px;\n",
       "}\n",
       "\n",
       ".xr-var-list > li:nth-child(odd) > div,\n",
       ".xr-var-list > li:nth-child(odd) > label,\n",
       ".xr-var-list > li:nth-child(odd) > .xr-var-name span {\n",
       "  background-color: var(--xr-background-color-row-odd);\n",
       "}\n",
       "\n",
       ".xr-var-name {\n",
       "  grid-column: 1;\n",
       "}\n",
       "\n",
       ".xr-var-dims {\n",
       "  grid-column: 2;\n",
       "}\n",
       "\n",
       ".xr-var-dtype {\n",
       "  grid-column: 3;\n",
       "  text-align: right;\n",
       "  color: var(--xr-font-color2);\n",
       "}\n",
       "\n",
       ".xr-var-preview {\n",
       "  grid-column: 4;\n",
       "}\n",
       "\n",
       ".xr-index-preview {\n",
       "  grid-column: 2 / 5;\n",
       "  color: var(--xr-font-color2);\n",
       "}\n",
       "\n",
       ".xr-var-name,\n",
       ".xr-var-dims,\n",
       ".xr-var-dtype,\n",
       ".xr-preview,\n",
       ".xr-attrs dt {\n",
       "  white-space: nowrap;\n",
       "  overflow: hidden;\n",
       "  text-overflow: ellipsis;\n",
       "  padding-right: 10px;\n",
       "}\n",
       "\n",
       ".xr-var-name:hover,\n",
       ".xr-var-dims:hover,\n",
       ".xr-var-dtype:hover,\n",
       ".xr-attrs dt:hover {\n",
       "  overflow: visible;\n",
       "  width: auto;\n",
       "  z-index: 1;\n",
       "}\n",
       "\n",
       ".xr-var-attrs,\n",
       ".xr-var-data,\n",
       ".xr-index-data {\n",
       "  display: none;\n",
       "  background-color: var(--xr-background-color) !important;\n",
       "  padding-bottom: 5px !important;\n",
       "}\n",
       "\n",
       ".xr-var-attrs-in:checked ~ .xr-var-attrs,\n",
       ".xr-var-data-in:checked ~ .xr-var-data,\n",
       ".xr-index-data-in:checked ~ .xr-index-data {\n",
       "  display: block;\n",
       "}\n",
       "\n",
       ".xr-var-data > table {\n",
       "  float: right;\n",
       "}\n",
       "\n",
       ".xr-var-name span,\n",
       ".xr-var-data,\n",
       ".xr-index-name div,\n",
       ".xr-index-data,\n",
       ".xr-attrs {\n",
       "  padding-left: 25px !important;\n",
       "}\n",
       "\n",
       ".xr-attrs,\n",
       ".xr-var-attrs,\n",
       ".xr-var-data,\n",
       ".xr-index-data {\n",
       "  grid-column: 1 / -1;\n",
       "}\n",
       "\n",
       "dl.xr-attrs {\n",
       "  padding: 0;\n",
       "  margin: 0;\n",
       "  display: grid;\n",
       "  grid-template-columns: 125px auto;\n",
       "}\n",
       "\n",
       ".xr-attrs dt,\n",
       ".xr-attrs dd {\n",
       "  padding: 0;\n",
       "  margin: 0;\n",
       "  float: left;\n",
       "  padding-right: 10px;\n",
       "  width: auto;\n",
       "}\n",
       "\n",
       ".xr-attrs dt {\n",
       "  font-weight: normal;\n",
       "  grid-column: 1;\n",
       "}\n",
       "\n",
       ".xr-attrs dt:hover span {\n",
       "  display: inline-block;\n",
       "  background: var(--xr-background-color);\n",
       "  padding-right: 10px;\n",
       "}\n",
       "\n",
       ".xr-attrs dd {\n",
       "  grid-column: 2;\n",
       "  white-space: pre-wrap;\n",
       "  word-break: break-all;\n",
       "}\n",
       "\n",
       ".xr-icon-database,\n",
       ".xr-icon-file-text2,\n",
       ".xr-no-icon {\n",
       "  display: inline-block;\n",
       "  vertical-align: middle;\n",
       "  width: 1em;\n",
       "  height: 1.5em !important;\n",
       "  stroke-width: 0;\n",
       "  stroke: currentColor;\n",
       "  fill: currentColor;\n",
       "}\n",
       "</style><pre class='xr-text-repr-fallback'>&lt;xarray.Dataset&gt; Size: 88MB\n",
       "Dimensions:  (time: 10957, lon: 20, lat: 100)\n",
       "Coordinates:\n",
       "  * time     (time) datetime64[ns] 88kB 1950-01-01 1950-01-02 ... 1979-12-31\n",
       "  * lon      (lon) float64 160B 73.0 73.25 73.5 73.75 ... 77.0 77.25 77.5 77.75\n",
       "  * lat      (lat) float64 800B 54.25 54.0 53.75 53.5 ... 30.25 30.0 29.75 29.5\n",
       "Data variables:\n",
       "    SPI1     (time, lat, lon) float32 88MB ...\n",
       "Attributes:\n",
       "    CDI:          Climate Data Interface version 2.4.4 (https://mpimet.mpg.de...\n",
       "    Conventions:  CF-1.6\n",
       "    history:      Thu Mar 06 20:30:32 2025: cdo -L selindexbox,293,542,144,34...\n",
       "    CDO:          Climate Data Operators version 2.4.4 (https://mpimet.mpg.de...</pre><div class='xr-wrap' style='display:none'><div class='xr-header'><div class='xr-obj-type'>xarray.Dataset</div></div><ul class='xr-sections'><li class='xr-section-item'><input id='section-d26d9fd0-8575-43f9-b4ae-01b77def682a' class='xr-section-summary-in' type='checkbox' disabled ><label for='section-d26d9fd0-8575-43f9-b4ae-01b77def682a' class='xr-section-summary'  title='Expand/collapse section'>Dimensions:</label><div class='xr-section-inline-details'><ul class='xr-dim-list'><li><span class='xr-has-index'>time</span>: 10957</li><li><span class='xr-has-index'>lon</span>: 20</li><li><span class='xr-has-index'>lat</span>: 100</li></ul></div><div class='xr-section-details'></div></li><li class='xr-section-item'><input id='section-86e565cc-2f0a-43cc-8f33-294601efe91a' class='xr-section-summary-in' type='checkbox'  checked><label for='section-86e565cc-2f0a-43cc-8f33-294601efe91a' class='xr-section-summary' >Coordinates: <span>(3)</span></label><div class='xr-section-inline-details'></div><div class='xr-section-details'><ul class='xr-var-list'><li class='xr-var-item'><div class='xr-var-name'><span class='xr-has-index'>time</span></div><div class='xr-var-dims'>(time)</div><div class='xr-var-dtype'>datetime64[ns]</div><div class='xr-var-preview xr-preview'>1950-01-01 ... 1979-12-31</div><input id='attrs-1da15738-6164-4e01-85e2-c4d898ef60e5' class='xr-var-attrs-in' type='checkbox' ><label for='attrs-1da15738-6164-4e01-85e2-c4d898ef60e5' title='Show/Hide attributes'><svg class='icon xr-icon-file-text2'><use xlink:href='#icon-file-text2'></use></svg></label><input id='data-791547ce-7029-4b75-bf21-7d1691e6b0b8' class='xr-var-data-in' type='checkbox'><label for='data-791547ce-7029-4b75-bf21-7d1691e6b0b8' title='Show/Hide data repr'><svg class='icon xr-icon-database'><use xlink:href='#icon-database'></use></svg></label><div class='xr-var-attrs'><dl class='xr-attrs'><dt><span>standard_name :</span></dt><dd>time</dd><dt><span>axis :</span></dt><dd>T</dd></dl></div><div class='xr-var-data'><pre>array([&#x27;1950-01-01T00:00:00.000000000&#x27;, &#x27;1950-01-02T00:00:00.000000000&#x27;,\n",
       "       &#x27;1950-01-03T00:00:00.000000000&#x27;, ..., &#x27;1979-12-29T00:00:00.000000000&#x27;,\n",
       "       &#x27;1979-12-30T00:00:00.000000000&#x27;, &#x27;1979-12-31T00:00:00.000000000&#x27;],\n",
       "      dtype=&#x27;datetime64[ns]&#x27;)</pre></div></li><li class='xr-var-item'><div class='xr-var-name'><span class='xr-has-index'>lon</span></div><div class='xr-var-dims'>(lon)</div><div class='xr-var-dtype'>float64</div><div class='xr-var-preview xr-preview'>73.0 73.25 73.5 ... 77.5 77.75</div><input id='attrs-6014a50e-2eeb-4260-88b0-d39b0684205d' class='xr-var-attrs-in' type='checkbox' ><label for='attrs-6014a50e-2eeb-4260-88b0-d39b0684205d' title='Show/Hide attributes'><svg class='icon xr-icon-file-text2'><use xlink:href='#icon-file-text2'></use></svg></label><input id='data-652ea2cd-8dfb-4177-9b22-3de3ce65f91c' class='xr-var-data-in' type='checkbox'><label for='data-652ea2cd-8dfb-4177-9b22-3de3ce65f91c' title='Show/Hide data repr'><svg class='icon xr-icon-database'><use xlink:href='#icon-database'></use></svg></label><div class='xr-var-attrs'><dl class='xr-attrs'><dt><span>axis :</span></dt><dd>X</dd></dl></div><div class='xr-var-data'><pre>array([73.  , 73.25, 73.5 , 73.75, 74.  , 74.25, 74.5 , 74.75, 75.  , 75.25,\n",
       "       75.5 , 75.75, 76.  , 76.25, 76.5 , 76.75, 77.  , 77.25, 77.5 , 77.75])</pre></div></li><li class='xr-var-item'><div class='xr-var-name'><span class='xr-has-index'>lat</span></div><div class='xr-var-dims'>(lat)</div><div class='xr-var-dtype'>float64</div><div class='xr-var-preview xr-preview'>54.25 54.0 53.75 ... 29.75 29.5</div><input id='attrs-afbba938-d2d0-4afa-b90d-05ebcccd584f' class='xr-var-attrs-in' type='checkbox' ><label for='attrs-afbba938-d2d0-4afa-b90d-05ebcccd584f' title='Show/Hide attributes'><svg class='icon xr-icon-file-text2'><use xlink:href='#icon-file-text2'></use></svg></label><input id='data-72708d8e-8e57-41b2-a27f-bc9cfdc5db3e' class='xr-var-data-in' type='checkbox'><label for='data-72708d8e-8e57-41b2-a27f-bc9cfdc5db3e' title='Show/Hide data repr'><svg class='icon xr-icon-database'><use xlink:href='#icon-database'></use></svg></label><div class='xr-var-attrs'><dl class='xr-attrs'><dt><span>axis :</span></dt><dd>Y</dd></dl></div><div class='xr-var-data'><pre>array([54.25, 54.  , 53.75, 53.5 , 53.25, 53.  , 52.75, 52.5 , 52.25, 52.  ,\n",
       "       51.75, 51.5 , 51.25, 51.  , 50.75, 50.5 , 50.25, 50.  , 49.75, 49.5 ,\n",
       "       49.25, 49.  , 48.75, 48.5 , 48.25, 48.  , 47.75, 47.5 , 47.25, 47.  ,\n",
       "       46.75, 46.5 , 46.25, 46.  , 45.75, 45.5 , 45.25, 45.  , 44.75, 44.5 ,\n",
       "       44.25, 44.  , 43.75, 43.5 , 43.25, 43.  , 42.75, 42.5 , 42.25, 42.  ,\n",
       "       41.75, 41.5 , 41.25, 41.  , 40.75, 40.5 , 40.25, 40.  , 39.75, 39.5 ,\n",
       "       39.25, 39.  , 38.75, 38.5 , 38.25, 38.  , 37.75, 37.5 , 37.25, 37.  ,\n",
       "       36.75, 36.5 , 36.25, 36.  , 35.75, 35.5 , 35.25, 35.  , 34.75, 34.5 ,\n",
       "       34.25, 34.  , 33.75, 33.5 , 33.25, 33.  , 32.75, 32.5 , 32.25, 32.  ,\n",
       "       31.75, 31.5 , 31.25, 31.  , 30.75, 30.5 , 30.25, 30.  , 29.75, 29.5 ])</pre></div></li></ul></div></li><li class='xr-section-item'><input id='section-d5bc30a9-81cd-4e50-a831-ab0b9f5820d1' class='xr-section-summary-in' type='checkbox'  checked><label for='section-d5bc30a9-81cd-4e50-a831-ab0b9f5820d1' class='xr-section-summary' >Data variables: <span>(1)</span></label><div class='xr-section-inline-details'></div><div class='xr-section-details'><ul class='xr-var-list'><li class='xr-var-item'><div class='xr-var-name'><span>SPI1</span></div><div class='xr-var-dims'>(time, lat, lon)</div><div class='xr-var-dtype'>float32</div><div class='xr-var-preview xr-preview'>...</div><input id='attrs-c7ec63cc-475f-44db-95cd-15d3f1887330' class='xr-var-attrs-in' type='checkbox' ><label for='attrs-c7ec63cc-475f-44db-95cd-15d3f1887330' title='Show/Hide attributes'><svg class='icon xr-icon-file-text2'><use xlink:href='#icon-file-text2'></use></svg></label><input id='data-9503e4b3-01af-416b-8982-9b88c5ab9892' class='xr-var-data-in' type='checkbox'><label for='data-9503e4b3-01af-416b-8982-9b88c5ab9892' title='Show/Hide data repr'><svg class='icon xr-icon-database'><use xlink:href='#icon-database'></use></svg></label><div class='xr-var-attrs'><dl class='xr-attrs'><dt><span>units :</span></dt><dd>1</dd><dt><span>calibration_period :</span></dt><dd></dd><dt><span>freq :</span></dt><dd>D</dd><dt><span>window :</span></dt><dd>30</dd><dt><span>scipy_dist :</span></dt><dd>gamma</dd><dt><span>method :</span></dt><dd>PWM</dd><dt><span>group :</span></dt><dd>time.dayofyear</dd><dt><span>time_indexer :</span></dt><dd>{}</dd></dl></div><div class='xr-var-data'><pre>[21914000 values with dtype=float32]</pre></div></li></ul></div></li><li class='xr-section-item'><input id='section-b84c9d83-430a-454f-af83-b16636a6a78e' class='xr-section-summary-in' type='checkbox'  ><label for='section-b84c9d83-430a-454f-af83-b16636a6a78e' class='xr-section-summary' >Indexes: <span>(3)</span></label><div class='xr-section-inline-details'></div><div class='xr-section-details'><ul class='xr-var-list'><li class='xr-var-item'><div class='xr-index-name'><div>time</div></div><div class='xr-index-preview'>PandasIndex</div><input type='checkbox' disabled/><label></label><input id='index-6da62be3-ede1-469b-bdb0-5df86557f094' class='xr-index-data-in' type='checkbox'/><label for='index-6da62be3-ede1-469b-bdb0-5df86557f094' title='Show/Hide index repr'><svg class='icon xr-icon-database'><use xlink:href='#icon-database'></use></svg></label><div class='xr-index-data'><pre>PandasIndex(DatetimeIndex([&#x27;1950-01-01&#x27;, &#x27;1950-01-02&#x27;, &#x27;1950-01-03&#x27;, &#x27;1950-01-04&#x27;,\n",
       "               &#x27;1950-01-05&#x27;, &#x27;1950-01-06&#x27;, &#x27;1950-01-07&#x27;, &#x27;1950-01-08&#x27;,\n",
       "               &#x27;1950-01-09&#x27;, &#x27;1950-01-10&#x27;,\n",
       "               ...\n",
       "               &#x27;1979-12-22&#x27;, &#x27;1979-12-23&#x27;, &#x27;1979-12-24&#x27;, &#x27;1979-12-25&#x27;,\n",
       "               &#x27;1979-12-26&#x27;, &#x27;1979-12-27&#x27;, &#x27;1979-12-28&#x27;, &#x27;1979-12-29&#x27;,\n",
       "               &#x27;1979-12-30&#x27;, &#x27;1979-12-31&#x27;],\n",
       "              dtype=&#x27;datetime64[ns]&#x27;, name=&#x27;time&#x27;, length=10957, freq=None))</pre></div></li><li class='xr-var-item'><div class='xr-index-name'><div>lon</div></div><div class='xr-index-preview'>PandasIndex</div><input type='checkbox' disabled/><label></label><input id='index-3f0f9808-3628-466b-8873-89134d8d4e20' class='xr-index-data-in' type='checkbox'/><label for='index-3f0f9808-3628-466b-8873-89134d8d4e20' title='Show/Hide index repr'><svg class='icon xr-icon-database'><use xlink:href='#icon-database'></use></svg></label><div class='xr-index-data'><pre>PandasIndex(Index([ 73.0, 73.25,  73.5, 73.75,  74.0, 74.25,  74.5, 74.75,  75.0, 75.25,\n",
       "        75.5, 75.75,  76.0, 76.25,  76.5, 76.75,  77.0, 77.25,  77.5, 77.75],\n",
       "      dtype=&#x27;float64&#x27;, name=&#x27;lon&#x27;))</pre></div></li><li class='xr-var-item'><div class='xr-index-name'><div>lat</div></div><div class='xr-index-preview'>PandasIndex</div><input type='checkbox' disabled/><label></label><input id='index-7f720e53-3080-4b25-83d7-1a9ab77eea4b' class='xr-index-data-in' type='checkbox'/><label for='index-7f720e53-3080-4b25-83d7-1a9ab77eea4b' title='Show/Hide index repr'><svg class='icon xr-icon-database'><use xlink:href='#icon-database'></use></svg></label><div class='xr-index-data'><pre>PandasIndex(Index([54.25,  54.0, 53.75,  53.5, 53.25,  53.0, 52.75,  52.5, 52.25,  52.0,\n",
       "       51.75,  51.5, 51.25,  51.0, 50.75,  50.5, 50.25,  50.0, 49.75,  49.5,\n",
       "       49.25,  49.0, 48.75,  48.5, 48.25,  48.0, 47.75,  47.5, 47.25,  47.0,\n",
       "       46.75,  46.5, 46.25,  46.0, 45.75,  45.5, 45.25,  45.0, 44.75,  44.5,\n",
       "       44.25,  44.0, 43.75,  43.5, 43.25,  43.0, 42.75,  42.5, 42.25,  42.0,\n",
       "       41.75,  41.5, 41.25,  41.0, 40.75,  40.5, 40.25,  40.0, 39.75,  39.5,\n",
       "       39.25,  39.0, 38.75,  38.5, 38.25,  38.0, 37.75,  37.5, 37.25,  37.0,\n",
       "       36.75,  36.5, 36.25,  36.0, 35.75,  35.5, 35.25,  35.0, 34.75,  34.5,\n",
       "       34.25,  34.0, 33.75,  33.5, 33.25,  33.0, 32.75,  32.5, 32.25,  32.0,\n",
       "       31.75,  31.5, 31.25,  31.0, 30.75,  30.5, 30.25,  30.0, 29.75,  29.5],\n",
       "      dtype=&#x27;float64&#x27;, name=&#x27;lat&#x27;))</pre></div></li></ul></div></li><li class='xr-section-item'><input id='section-367a73e8-a950-4552-9eef-91d048e8dc29' class='xr-section-summary-in' type='checkbox'  checked><label for='section-367a73e8-a950-4552-9eef-91d048e8dc29' class='xr-section-summary' >Attributes: <span>(4)</span></label><div class='xr-section-inline-details'></div><div class='xr-section-details'><dl class='xr-attrs'><dt><span>CDI :</span></dt><dd>Climate Data Interface version 2.4.4 (https://mpimet.mpg.de/cdi)</dd><dt><span>Conventions :</span></dt><dd>CF-1.6</dd><dt><span>history :</span></dt><dd>Thu Mar 06 20:30:32 2025: cdo -L selindexbox,293,542,144,346 -mergetime era5.reanalysis.spi30d.0p25deg.global.1950-1954.nc era5.reanalysis.spi30d.0p25deg.global.1955-1959.nc era5.reanalysis.spi30d.0p25deg.global.1960-1964.nc era5.reanalysis.spi30d.0p25deg.global.1965-1969.nc era5.reanalysis.spi30d.0p25deg.global.1970-1974.nc era5.reanalysis.spi30d.0p25deg.global.1975-1979.nc output.nc</dd><dt><span>CDO :</span></dt><dd>Climate Data Operators version 2.4.4 (https://mpimet.mpg.de/cdo)</dd></dl></div></li></ul></div></div>"
      ],
      "text/plain": [
       "<xarray.Dataset> Size: 88MB\n",
       "Dimensions:  (time: 10957, lon: 20, lat: 100)\n",
       "Coordinates:\n",
       "  * time     (time) datetime64[ns] 88kB 1950-01-01 1950-01-02 ... 1979-12-31\n",
       "  * lon      (lon) float64 160B 73.0 73.25 73.5 73.75 ... 77.0 77.25 77.5 77.75\n",
       "  * lat      (lat) float64 800B 54.25 54.0 53.75 53.5 ... 30.25 30.0 29.75 29.5\n",
       "Data variables:\n",
       "    SPI1     (time, lat, lon) float32 88MB ...\n",
       "Attributes:\n",
       "    CDI:          Climate Data Interface version 2.4.4 (https://mpimet.mpg.de...\n",
       "    Conventions:  CF-1.6\n",
       "    history:      Thu Mar 06 20:30:32 2025: cdo -L selindexbox,293,542,144,34...\n",
       "    CDO:          Climate Data Operators version 2.4.4 (https://mpimet.mpg.de..."
      ]
     },
     "execution_count": 36,
     "metadata": {},
     "output_type": "execute_result"
    }
   ],
   "source": [
    "ds = xr.open_dataset(\"tests/data/era5.reanalysis.spi30d.0p25deg.china.1950-1979.nc\").rename({\"latitude\": \"lat\", \"longitude\": \"lon\", \"spi30d\": \"SPI1\"})\\\n",
    "        .isel(lat=slice(0, 100), lon=slice(0, 20))\n",
    "ds"
   ]
  },
  {
   "cell_type": "code",
   "execution_count": 37,
   "metadata": {},
   "outputs": [],
   "source": [
    "da_droughtA = (ds[\"SPI1\"] < -1).copy().rename({\"lon\": \"lonA\", \"lat\": \"latA\"})\n",
    "da_droughtB = (ds[\"SPI1\"] < -1).copy().rename({\"lon\": \"lonB\", \"lat\": \"latB\"})"
   ]
  },
  {
   "cell_type": "code",
   "execution_count": 38,
   "metadata": {},
   "outputs": [],
   "source": [
    "da_droughtA_stack = da_droughtA.stack({\"locA\": [\"latA\", \"lonA\"]}).T\n",
    "da_droughtB_stack = da_droughtB.stack({\"locB\": [\"latB\", \"lonB\"]}).T"
   ]
  },
  {
   "cell_type": "markdown",
   "metadata": {},
   "source": [
    "### `njit` cases"
   ]
  },
  {
   "cell_type": "code",
   "execution_count": 40,
   "metadata": {},
   "outputs": [
    {
     "name": "stdout",
     "output_type": "stream",
     "text": [
      "3min 34s ± 272 ms per loop (mean ± std. dev. of 3 runs, 3 loops each)\n"
     ]
    }
   ],
   "source": [
    "%%timeit -n 3 -r 3\n",
    "xr.apply_ufunc(eca_precursor_njit, da_droughtA, da_droughtB, vectorize=True,\n",
    "               input_core_dims=[[\"time\"], [\"time\"]], output_core_dims=[[]], \n",
    "               ) #dask=\"parallelized\", output_dtypes=[np.uint16] "
   ]
  },
  {
   "cell_type": "code",
   "execution_count": 41,
   "metadata": {},
   "outputs": [
    {
     "name": "stdout",
     "output_type": "stream",
     "text": [
      "3min 6s ± 0 ns per loop (mean ± std. dev. of 1 run, 1 loop each)\n"
     ]
    }
   ],
   "source": [
    "%%timeit -n 1 -r 1\n",
    "xr.apply_ufunc(eca_precursors_pair_njit, da_droughtA, da_droughtB, vectorize=True, \n",
    "               input_core_dims=[[\"lonA\", \"time\"], [\"lonB\", \"time\"]], \n",
    "               output_core_dims=[[\"lonA\", \"lonB\"]],\n",
    "               )"
   ]
  },
  {
   "cell_type": "code",
   "execution_count": null,
   "metadata": {},
   "outputs": [
    {
     "name": "stdout",
     "output_type": "stream",
     "text": [
      "1741330015.1323948\n",
      "1741330220.0367894\n"
     ]
    }
   ],
   "source": [
    "%%timeit -n 1 -r 1\n",
    "eca_precursors_pair_njit(da_droughtA_stack.values, da_droughtB_stack.values)"
   ]
  },
  {
   "cell_type": "markdown",
   "metadata": {},
   "source": [
    "### `guvectorize`"
   ]
  },
  {
   "cell_type": "code",
   "execution_count": 42,
   "metadata": {},
   "outputs": [
    {
     "name": "stdout",
     "output_type": "stream",
     "text": [
      "3min 16s ± 0 ns per loop (mean ± std. dev. of 1 run, 1 loop each)\n"
     ]
    }
   ],
   "source": [
    "%%timeit -n 1 -r 1\n",
    "xr.apply_ufunc(eca_precursor, da_droughtA, da_droughtB, vectorize=False,\n",
    "                input_core_dims=[[\"time\"], [\"time\"]], output_core_dims=[[]], \n",
    "                # dask=\"parallelized\", output_dtypes=[np.uint16]\n",
    "                )"
   ]
  },
  {
   "cell_type": "code",
   "execution_count": 43,
   "metadata": {},
   "outputs": [
    {
     "name": "stdout",
     "output_type": "stream",
     "text": [
      "3min 5s ± 0 ns per loop (mean ± std. dev. of 1 run, 1 loop each)\n"
     ]
    }
   ],
   "source": [
    "%%timeit -n 1 -r 1\n",
    "xr.apply_ufunc(eca_precursors_pair, da_droughtA, da_droughtB, vectorize=False,\n",
    "                input_core_dims=[[\"lonA\", \"time\"], [\"lonB\", \"time\"]], \n",
    "                output_core_dims=[[\"lonA\", \"lonB\"]],\n",
    "                # dask=\"parallelized\"\n",
    "                )"
   ]
  },
  {
   "cell_type": "code",
   "execution_count": 44,
   "metadata": {},
   "outputs": [
    {
     "name": "stdout",
     "output_type": "stream",
     "text": [
      "5min 56s ± 0 ns per loop (mean ± std. dev. of 1 run, 1 loop each)\n"
     ]
    }
   ],
   "source": [
    "%%timeit -n 1 -r 1\n",
    "xr.apply_ufunc(eca_precursors_pair, da_droughtA, da_droughtB, vectorize=False,\n",
    "                input_core_dims=[[\"latA\", \"time\"], [\"latB\", \"time\"]], \n",
    "                output_core_dims=[[\"latA\", \"latB\"]],\n",
    "                # dask=\"parallelized\"\n",
    "                )"
   ]
  },
  {
   "cell_type": "markdown",
   "metadata": {},
   "source": [
    "## Dask parallel"
   ]
  },
  {
   "cell_type": "code",
   "execution_count": 13,
   "metadata": {},
   "outputs": [],
   "source": [
    "ds_chunk = xr.open_dataset(\"tests/data/era5.reanalysis.spi30d.0p25deg.china.1950-1979.nc\").rename({\"latitude\": \"lat\", \"longitude\": \"lon\", \"spi30d\": \"SPI1\"})\\\n",
    "        .isel(lat=slice(0, 100), lon=slice(0, 100)).chunk({\"lat\": 20, \"lon\": 20})\n",
    "da_droughtA_chunk = (ds_chunk[\"SPI1\"] < -1).copy().rename({\"lon\": \"lonA\", \"lat\": \"latA\"})\n",
    "da_droughtB_chunk = (ds_chunk[\"SPI1\"] < -1).copy().rename({\"lon\": \"lonB\", \"lat\": \"latB\"})"
   ]
  },
  {
   "cell_type": "code",
   "execution_count": 14,
   "metadata": {},
   "outputs": [
    {
     "name": "stderr",
     "output_type": "stream",
     "text": [
      "/home/hmwang-cli/.conda/envs/syncfuture/lib/python3.11/site-packages/dask/array/gufunc.py:458: PerformanceWarning: Increasing number of chunks by factor of 25\n",
      "  tmp = blockwise(\n"
     ]
    },
    {
     "name": "stdout",
     "output_type": "stream",
     "text": [
      "49.5 s ± 0 ns per loop (mean ± std. dev. of 1 run, 1 loop each)\n"
     ]
    }
   ],
   "source": [
    "%%timeit -n 1 -r 1\n",
    "with performance_report(filename=\"tests/logs/guvectorize_single.html\"):\n",
    "    result = xr.apply_ufunc(eca_precursor, da_droughtA_chunk, da_droughtB_chunk, vectorize=False,\n",
    "               input_core_dims=[[\"time\"], [\"time\"]], output_core_dims=[[]],  \n",
    "               dask=\"parallelized\", dask_gufunc_kwargs={\"allow_rechunk\": True},\n",
    "               ).compute()"
   ]
  },
  {
   "cell_type": "code",
   "execution_count": 33,
   "metadata": {},
   "outputs": [],
   "source": [
    "ds_largechunk = xr.open_dataset(\"tests/data/era5.reanalysis.spi30d.0p25deg.china.1950-1979.nc\").rename({\"latitude\": \"lat\", \"longitude\": \"lon\", \"spi30d\": \"SPI1\"})\\\n",
    "        .isel(lat=slice(0, 100), lon=slice(0, 100)).chunk({\"lat\": -1, \"lon\": 5})\n",
    "da_droughtA_largechunk = (ds_largechunk[\"SPI1\"] < -1).copy().rename({\"lon\": \"lonA\", \"lat\": \"latA\"})\n",
    "da_droughtB_largechunk = (ds_largechunk[\"SPI1\"] < -1).copy().rename({\"lon\": \"lonB\", \"lat\": \"latB\"})"
   ]
  },
  {
   "cell_type": "code",
   "execution_count": 34,
   "metadata": {},
   "outputs": [
    {
     "name": "stderr",
     "output_type": "stream",
     "text": [
      "/home/hmwang-cli/.conda/envs/syncfuture/lib/python3.11/site-packages/dask/array/gufunc.py:458: PerformanceWarning: Increasing number of chunks by factor of 20\n",
      "  tmp = blockwise(\n"
     ]
    },
    {
     "name": "stdout",
     "output_type": "stream",
     "text": [
      "50.5 s ± 0 ns per loop (mean ± std. dev. of 1 run, 1 loop each)\n"
     ]
    }
   ],
   "source": [
    "%%timeit -n 1 -r 1\n",
    "with performance_report(filename=\"tests/logs/guvectorize_single.html\"):\n",
    "    result = xr.apply_ufunc(eca_precursor, da_droughtA_largechunk, da_droughtB_largechunk, vectorize=False,\n",
    "               input_core_dims=[[\"time\"], [\"time\"]], output_core_dims=[[]],  \n",
    "               dask=\"parallelized\",\n",
    "               ).compute()\n"
   ]
  },
  {
   "cell_type": "code",
   "execution_count": 11,
   "metadata": {},
   "outputs": [
    {
     "name": "stderr",
     "output_type": "stream",
     "text": [
      "/home/hmwang-cli/.conda/envs/syncfuture/lib/python3.11/site-packages/dask/array/gufunc.py:458: PerformanceWarning: Increasing number of chunks by factor of 25\n",
      "  tmp = blockwise(\n"
     ]
    },
    {
     "name": "stdout",
     "output_type": "stream",
     "text": [
      "20min 53s ± 0 ns per loop (mean ± std. dev. of 1 run, 1 loop each)\n"
     ]
    }
   ],
   "source": [
    "%%timeit -n 1 -r 1 # 实际上并没有并行起来\n",
    "task = xr.apply_ufunc(eca_precursor_njit, da_droughtA_chunk, da_droughtB_chunk, vectorize=True,\n",
    "               input_core_dims=[[\"time\"], [\"time\"]], output_core_dims=[[]],  \n",
    "               dask=\"parallelized\", output_dtypes=np.uint16\n",
    "               ).compute()\n",
    "print(task.shape)"
   ]
  },
  {
   "cell_type": "code",
   "execution_count": 18,
   "metadata": {},
   "outputs": [
    {
     "name": "stderr",
     "output_type": "stream",
     "text": [
      "/home/hmwang-cli/.conda/envs/syncfuture/lib/python3.11/site-packages/dask/array/gufunc.py:458: PerformanceWarning: Increasing number of chunks by factor of 25\n",
      "  tmp = blockwise(\n"
     ]
    },
    {
     "name": "stdout",
     "output_type": "stream",
     "text": [
      "1min 2s ± 0 ns per loop (mean ± std. dev. of 1 run, 1 loop each)\n"
     ]
    }
   ],
   "source": [
    "%%timeit -n 1 -r 1\n",
    "xr.apply_ufunc(eca_precursors_pair, da_droughtA_chunk, da_droughtB_chunk, vectorize=False,\n",
    "                input_core_dims=[[\"lonA\", \"time\"], [\"lonB\", \"time\"]], \n",
    "                output_core_dims=[[\"lonA\", \"lonB\"]],\n",
    "                dask=\"parallelized\", dask_gufunc_kwargs={\"allow_rechunk\": True}\n",
    "                ).compute()"
   ]
  },
  {
   "cell_type": "markdown",
   "metadata": {},
   "source": [
    "41.9s vs. 48.4s"
   ]
  },
  {
   "cell_type": "code",
   "execution_count": 15,
   "metadata": {},
   "outputs": [
    {
     "name": "stderr",
     "output_type": "stream",
     "text": [
      "/home/hmwang-cli/.conda/envs/syncfuture/lib/python3.11/site-packages/dask/array/gufunc.py:458: PerformanceWarning: Increasing number of chunks by factor of 25\n",
      "  tmp = blockwise(\n"
     ]
    },
    {
     "name": "stdout",
     "output_type": "stream",
     "text": [
      "(100, 100, 100, 100)\n",
      "5min 23s ± 0 ns per loop (mean ± std. dev. of 1 run, 1 loop each)\n"
     ]
    }
   ],
   "source": [
    "%%timeit -n 1 -r 1 # really slow, not acctually launch parallel\n",
    "with performance_report(filename=\"tests/logs/njit_pair.html\"):\n",
    "    task = xr.apply_ufunc(eca_precursors_pair_njit, da_droughtA_chunk, da_droughtB_chunk, vectorize=True,\n",
    "                    input_core_dims=[[\"lonA\", \"time\"], [\"lonB\", \"time\"]], \n",
    "                    output_core_dims=[[\"lonA\", \"lonB\"]],\n",
    "                    dask=\"parallelized\",\n",
    "                    dask_gufunc_kwargs={\"allow_rechunk\": True},\n",
    "                    output_dtypes=np.uint16\n",
    "                   ).compute()\n",
    "print(task.shape)"
   ]
  },
  {
   "cell_type": "code",
   "execution_count": 16,
   "metadata": {},
   "outputs": [
    {
     "name": "stderr",
     "output_type": "stream",
     "text": [
      "/home/hmwang-cli/.conda/envs/syncfuture/lib/python3.11/site-packages/dask/array/gufunc.py:458: PerformanceWarning: Increasing number of chunks by factor of 25\n",
      "  tmp = blockwise(\n"
     ]
    },
    {
     "name": "stdout",
     "output_type": "stream",
     "text": [
      "20.6 s ± 0 ns per loop (mean ± std. dev. of 1 run, 1 loop each)\n"
     ]
    }
   ],
   "source": [
    "%%timeit -n 1 -r 1\n",
    "with performance_report(filename=\"tests/logs/njit_parallel_pair.html\"):\n",
    "    xr.apply_ufunc(eca_precursors_pair_njitp, da_droughtA_chunk, da_droughtB_chunk, vectorize=True,\n",
    "                    input_core_dims=[[\"lonA\", \"time\"], [\"lonB\", \"time\"]], \n",
    "                    output_core_dims=[[\"lonA\", \"lonB\"]],\n",
    "                    dask=\"parallelized\",\n",
    "                    dask_gufunc_kwargs={\"allow_rechunk\": True},\n",
    "                    output_dtypes=np.uint16\n",
    "                    ).compute()"
   ]
  },
  {
   "cell_type": "markdown",
   "metadata": {},
   "source": [
    "## numba parallel w loaded dataset"
   ]
  },
  {
   "cell_type": "code",
   "execution_count": 38,
   "metadata": {},
   "outputs": [],
   "source": [
    "da_droughtA_stack_load = da_droughtA_chunk.stack({\"locA\": [\"latA\", \"lonA\"]}).T.values\n",
    "da_droughtB_stack_load = da_droughtB_chunk.stack({\"locB\": [\"latB\", \"lonB\"]}).T.values"
   ]
  },
  {
   "cell_type": "code",
   "execution_count": 43,
   "metadata": {},
   "outputs": [
    {
     "name": "stdout",
     "output_type": "stream",
     "text": [
      "11.1 s ± 0 ns per loop (mean ± std. dev. of 1 run, 1 loop each)\n"
     ]
    }
   ],
   "source": [
    "%%timeit -n 1 -r 1\n",
    "eca_precursors_pair_njitp(da_droughtA_unchunk_stack, da_droughtB_unchunk_stack)"
   ]
  },
  {
   "cell_type": "code",
   "execution_count": 39,
   "metadata": {},
   "outputs": [],
   "source": [
    "da_droughtA_load = da_droughtA_chunk.copy().load()\n",
    "da_droughtB_load = da_droughtB_chunk.copy().load()"
   ]
  },
  {
   "cell_type": "code",
   "execution_count": 36,
   "metadata": {},
   "outputs": [],
   "source": [
    "@guvectorize([\"void(boolean[:], boolean[:], uint16[:])\"], \"(n),(n)->()\", nopython=True, target=\"parallel\")\n",
    "def eca_precursor_parallel(b1, b2wr, KRprec):\n",
    "    KRprec[0] = np.sum(b1 & b2wr)\n",
    "\n",
    "@guvectorize([\"void(bool_[:,:], bool_[:,:], uint16[:,:])\"], \"(m,n),(l,n)->(m,l)\", nopython=True, target=\"parallel\")\n",
    "def eca_precursors_pair_parallel(b2, b1w, result):\n",
    "    \"\"\"一次性计算所有位置对的 precursor 关系\"\"\"\n",
    "    m = b2.shape[0]     # 第一数组的第一维\n",
    "    l = b1w.shape[0]    # 第二数组的第一维\n",
    "    \n",
    "    for i in prange(m):\n",
    "        for j in range(l):\n",
    "            result[i, j] = np.sum(b2[i, :] & b1w[j, :])"
   ]
  },
  {
   "cell_type": "code",
   "execution_count": 40,
   "metadata": {},
   "outputs": [
    {
     "name": "stdout",
     "output_type": "stream",
     "text": [
      "4min 58s ± 0 ns per loop (mean ± std. dev. of 1 run, 1 loop each)\n"
     ]
    }
   ],
   "source": [
    "%%timeit -n 1 -r 1\n",
    "xr.apply_ufunc(eca_precursor_parallel, da_droughtA_load, da_droughtB_load, vectorize=False,\n",
    "               input_core_dims=[[\"time\"], [\"time\"]], output_core_dims=[[]],  \n",
    "               )"
   ]
  },
  {
   "cell_type": "code",
   "execution_count": 41,
   "metadata": {},
   "outputs": [],
   "source": [
    "da_droughtA_stack_load = da_droughtA_chunk.stack({\"locA\": [\"latA\", \"lonA\"]}).T.load()\n",
    "da_droughtB_stack_load = da_droughtB_chunk.stack({\"locB\": [\"latB\", \"lonB\"]}).T.load()"
   ]
  },
  {
   "cell_type": "code",
   "execution_count": 42,
   "metadata": {},
   "outputs": [
    {
     "name": "stdout",
     "output_type": "stream",
     "text": [
      "15min 11s ± 0 ns per loop (mean ± std. dev. of 1 run, 1 loop each)\n"
     ]
    }
   ],
   "source": [
    "%%timeit -n 1 -r 1\n",
    "xr.apply_ufunc(eca_precursors_pair_parallel, da_droughtA_stack_load, da_droughtB_stack_load, vectorize=False,\n",
    "               input_core_dims=[[\"locA\", \"time\"], [\"locB\", \"time\"]], output_core_dims=[[\"locA\", \"locB\"]],  \n",
    "               dask=\"parallelized\",\n",
    "               ).compute()"
   ]
  },
  {
   "cell_type": "code",
   "execution_count": 45,
   "metadata": {},
   "outputs": [],
   "source": [
    "client.close()"
   ]
  }
 ],
 "metadata": {
  "kernelspec": {
   "display_name": "syncfuture",
   "language": "python",
   "name": "python3"
  },
  "language_info": {
   "codemirror_mode": {
    "name": "ipython",
    "version": 3
   },
   "file_extension": ".py",
   "mimetype": "text/x-python",
   "name": "python",
   "nbconvert_exporter": "python",
   "pygments_lexer": "ipython3",
   "version": "3.11.8"
  }
 },
 "nbformat": 4,
 "nbformat_minor": 2
}
